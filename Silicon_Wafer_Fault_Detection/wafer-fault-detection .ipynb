{
 "cells": [
  {
   "cell_type": "code",
   "execution_count": 3,
   "metadata": {
    "execution": {
     "iopub.execute_input": "2023-02-25T03:47:47.562990Z",
     "iopub.status.busy": "2023-02-25T03:47:47.562413Z",
     "iopub.status.idle": "2023-02-25T03:47:47.897568Z",
     "shell.execute_reply": "2023-02-25T03:47:47.896084Z",
     "shell.execute_reply.started": "2023-02-25T03:47:47.562932Z"
    }
   },
   "outputs": [
    {
     "data": {
      "text/html": [
       "<div>\n",
       "<style scoped>\n",
       "    .dataframe tbody tr th:only-of-type {\n",
       "        vertical-align: middle;\n",
       "    }\n",
       "\n",
       "    .dataframe tbody tr th {\n",
       "        vertical-align: top;\n",
       "    }\n",
       "\n",
       "    .dataframe thead th {\n",
       "        text-align: right;\n",
       "    }\n",
       "</style>\n",
       "<table border=\"1\" class=\"dataframe\">\n",
       "  <thead>\n",
       "    <tr style=\"text-align: right;\">\n",
       "      <th></th>\n",
       "      <th>feature_1</th>\n",
       "      <th>feature_2</th>\n",
       "      <th>feature_3</th>\n",
       "      <th>feature_4</th>\n",
       "      <th>feature_5</th>\n",
       "      <th>feature_6</th>\n",
       "      <th>feature_7</th>\n",
       "      <th>feature_8</th>\n",
       "      <th>feature_9</th>\n",
       "      <th>feature_10</th>\n",
       "      <th>...</th>\n",
       "      <th>feature_1550</th>\n",
       "      <th>feature_1551</th>\n",
       "      <th>feature_1552</th>\n",
       "      <th>feature_1553</th>\n",
       "      <th>feature_1554</th>\n",
       "      <th>feature_1555</th>\n",
       "      <th>feature_1556</th>\n",
       "      <th>feature_1557</th>\n",
       "      <th>feature_1558</th>\n",
       "      <th>Class</th>\n",
       "    </tr>\n",
       "  </thead>\n",
       "  <tbody>\n",
       "    <tr>\n",
       "      <th>0</th>\n",
       "      <td>100</td>\n",
       "      <td>160</td>\n",
       "      <td>1.6000</td>\n",
       "      <td>0</td>\n",
       "      <td>0</td>\n",
       "      <td>0</td>\n",
       "      <td>0</td>\n",
       "      <td>0</td>\n",
       "      <td>0</td>\n",
       "      <td>0</td>\n",
       "      <td>...</td>\n",
       "      <td>0</td>\n",
       "      <td>0</td>\n",
       "      <td>0</td>\n",
       "      <td>0</td>\n",
       "      <td>0</td>\n",
       "      <td>0</td>\n",
       "      <td>0</td>\n",
       "      <td>0</td>\n",
       "      <td>0</td>\n",
       "      <td>0</td>\n",
       "    </tr>\n",
       "    <tr>\n",
       "      <th>1</th>\n",
       "      <td>20</td>\n",
       "      <td>83</td>\n",
       "      <td>4.1500</td>\n",
       "      <td>1</td>\n",
       "      <td>0</td>\n",
       "      <td>0</td>\n",
       "      <td>0</td>\n",
       "      <td>0</td>\n",
       "      <td>0</td>\n",
       "      <td>1</td>\n",
       "      <td>...</td>\n",
       "      <td>0</td>\n",
       "      <td>0</td>\n",
       "      <td>0</td>\n",
       "      <td>0</td>\n",
       "      <td>0</td>\n",
       "      <td>1</td>\n",
       "      <td>0</td>\n",
       "      <td>0</td>\n",
       "      <td>0</td>\n",
       "      <td>0</td>\n",
       "    </tr>\n",
       "    <tr>\n",
       "      <th>2</th>\n",
       "      <td>99</td>\n",
       "      <td>150</td>\n",
       "      <td>1.5151</td>\n",
       "      <td>1</td>\n",
       "      <td>0</td>\n",
       "      <td>0</td>\n",
       "      <td>0</td>\n",
       "      <td>0</td>\n",
       "      <td>0</td>\n",
       "      <td>0</td>\n",
       "      <td>...</td>\n",
       "      <td>0</td>\n",
       "      <td>0</td>\n",
       "      <td>0</td>\n",
       "      <td>0</td>\n",
       "      <td>0</td>\n",
       "      <td>0</td>\n",
       "      <td>0</td>\n",
       "      <td>0</td>\n",
       "      <td>0</td>\n",
       "      <td>0</td>\n",
       "    </tr>\n",
       "    <tr>\n",
       "      <th>3</th>\n",
       "      <td>40</td>\n",
       "      <td>40</td>\n",
       "      <td>1.0000</td>\n",
       "      <td>0</td>\n",
       "      <td>0</td>\n",
       "      <td>0</td>\n",
       "      <td>0</td>\n",
       "      <td>0</td>\n",
       "      <td>0</td>\n",
       "      <td>0</td>\n",
       "      <td>...</td>\n",
       "      <td>0</td>\n",
       "      <td>0</td>\n",
       "      <td>0</td>\n",
       "      <td>0</td>\n",
       "      <td>0</td>\n",
       "      <td>0</td>\n",
       "      <td>0</td>\n",
       "      <td>0</td>\n",
       "      <td>0</td>\n",
       "      <td>0</td>\n",
       "    </tr>\n",
       "    <tr>\n",
       "      <th>4</th>\n",
       "      <td>12</td>\n",
       "      <td>234</td>\n",
       "      <td>19.5000</td>\n",
       "      <td>1</td>\n",
       "      <td>0</td>\n",
       "      <td>0</td>\n",
       "      <td>0</td>\n",
       "      <td>0</td>\n",
       "      <td>0</td>\n",
       "      <td>0</td>\n",
       "      <td>...</td>\n",
       "      <td>0</td>\n",
       "      <td>0</td>\n",
       "      <td>0</td>\n",
       "      <td>0</td>\n",
       "      <td>0</td>\n",
       "      <td>0</td>\n",
       "      <td>0</td>\n",
       "      <td>0</td>\n",
       "      <td>0</td>\n",
       "      <td>0</td>\n",
       "    </tr>\n",
       "  </tbody>\n",
       "</table>\n",
       "<p>5 rows × 1559 columns</p>\n",
       "</div>"
      ],
      "text/plain": [
       "   feature_1  feature_2  feature_3  feature_4  feature_5  feature_6  \\\n",
       "0        100        160     1.6000          0          0          0   \n",
       "1         20         83     4.1500          1          0          0   \n",
       "2         99        150     1.5151          1          0          0   \n",
       "3         40         40     1.0000          0          0          0   \n",
       "4         12        234    19.5000          1          0          0   \n",
       "\n",
       "   feature_7  feature_8  feature_9  feature_10  ...  feature_1550  \\\n",
       "0          0          0          0           0  ...             0   \n",
       "1          0          0          0           1  ...             0   \n",
       "2          0          0          0           0  ...             0   \n",
       "3          0          0          0           0  ...             0   \n",
       "4          0          0          0           0  ...             0   \n",
       "\n",
       "   feature_1551  feature_1552  feature_1553  feature_1554  feature_1555  \\\n",
       "0             0             0             0             0             0   \n",
       "1             0             0             0             0             1   \n",
       "2             0             0             0             0             0   \n",
       "3             0             0             0             0             0   \n",
       "4             0             0             0             0             0   \n",
       "\n",
       "   feature_1556  feature_1557  feature_1558  Class  \n",
       "0             0             0             0      0  \n",
       "1             0             0             0      0  \n",
       "2             0             0             0      0  \n",
       "3             0             0             0      0  \n",
       "4             0             0             0      0  \n",
       "\n",
       "[5 rows x 1559 columns]"
      ]
     },
     "execution_count": 3,
     "metadata": {},
     "output_type": "execute_result"
    }
   ],
   "source": [
    "import pandas as pd\n",
    "import numpy as np\n",
    "data=pd.read_csv(r'Train.csv')\n",
    "data.head()"
   ]
  },
  {
   "cell_type": "code",
   "execution_count": 4,
   "metadata": {
    "execution": {
     "iopub.execute_input": "2023-02-25T03:47:47.901298Z",
     "iopub.status.busy": "2023-02-25T03:47:47.900456Z",
     "iopub.status.idle": "2023-02-25T03:47:47.984790Z",
     "shell.execute_reply": "2023-02-25T03:47:47.983421Z",
     "shell.execute_reply.started": "2023-02-25T03:47:47.901219Z"
    }
   },
   "outputs": [
    {
     "name": "stdout",
     "output_type": "stream",
     "text": [
      "<class 'pandas.core.frame.DataFrame'>\n",
      "RangeIndex: 1763 entries, 0 to 1762\n",
      "Columns: 1559 entries, feature_1 to Class\n",
      "dtypes: float64(1), int64(1558)\n",
      "memory usage: 21.0 MB\n"
     ]
    }
   ],
   "source": [
    "data.info()"
   ]
  },
  {
   "cell_type": "code",
   "execution_count": 5,
   "metadata": {
    "execution": {
     "iopub.execute_input": "2023-02-25T03:47:47.987917Z",
     "iopub.status.busy": "2023-02-25T03:47:47.986936Z",
     "iopub.status.idle": "2023-02-25T03:47:48.222326Z",
     "shell.execute_reply": "2023-02-25T03:47:48.220955Z",
     "shell.execute_reply.started": "2023-02-25T03:47:47.987861Z"
    }
   },
   "outputs": [
    {
     "name": "stdout",
     "output_type": "stream",
     "text": [
      "<class 'pandas.core.frame.DataFrame'>\n",
      "Int64Index: 1715 entries, 0 to 1762\n",
      "Columns: 1559 entries, feature_1 to Class\n",
      "dtypes: float64(1), int64(1558)\n",
      "memory usage: 20.4 MB\n"
     ]
    }
   ],
   "source": [
    "data=data.drop_duplicates()\n",
    "data.info()"
   ]
  },
  {
   "cell_type": "markdown",
   "metadata": {},
   "source": [
    "The dataset has no duplicate values\n"
   ]
  },
  {
   "cell_type": "code",
   "execution_count": 6,
   "metadata": {
    "execution": {
     "iopub.execute_input": "2023-02-25T03:47:48.225216Z",
     "iopub.status.busy": "2023-02-25T03:47:48.224344Z",
     "iopub.status.idle": "2023-02-25T03:47:48.809140Z",
     "shell.execute_reply": "2023-02-25T03:47:48.807393Z",
     "shell.execute_reply.started": "2023-02-25T03:47:48.225147Z"
    }
   },
   "outputs": [
    {
     "name": "stdout",
     "output_type": "stream",
     "text": [
      "<class 'pandas.core.frame.DataFrame'>\n",
      "Int64Index: 1715 entries, 0 to 1762\n",
      "Columns: 1559 entries, feature_1 to Class\n",
      "dtypes: float64(1), int64(1558)\n",
      "memory usage: 20.4 MB\n"
     ]
    }
   ],
   "source": [
    "data=data.dropna()\n",
    "data.info()"
   ]
  },
  {
   "cell_type": "markdown",
   "metadata": {},
   "source": [
    "the dataset has no null values"
   ]
  },
  {
   "cell_type": "code",
   "execution_count": 7,
   "metadata": {
    "execution": {
     "iopub.execute_input": "2023-02-25T03:47:48.812859Z",
     "iopub.status.busy": "2023-02-25T03:47:48.812429Z",
     "iopub.status.idle": "2023-02-25T03:47:51.182938Z",
     "shell.execute_reply": "2023-02-25T03:47:51.181508Z",
     "shell.execute_reply.started": "2023-02-25T03:47:48.812822Z"
    }
   },
   "outputs": [
    {
     "data": {
      "text/plain": [
       "<AxesSubplot:>"
      ]
     },
     "execution_count": 7,
     "metadata": {},
     "output_type": "execute_result"
    },
    {
     "data": {
      "image/png": "[encoded data removed]",
      "text/plain": [
       "<Figure size 432x288 with 1 Axes>"
      ]
     },
     "metadata": {
      "needs_background": "light"
     },
     "output_type": "display_data"
    }
   ],
   "source": [
    "import seaborn as sns\n",
    "data['feature_1'].value_counts().sort_index().plot.bar()"
   ]
  },
  {
   "cell_type": "code",
   "execution_count": 8,
   "metadata": {
    "execution": {
     "iopub.execute_input": "2023-02-25T03:47:51.184842Z",
     "iopub.status.busy": "2023-02-25T03:47:51.184515Z",
     "iopub.status.idle": "2023-02-25T03:47:51.395224Z",
     "shell.execute_reply": "2023-02-25T03:47:51.393995Z",
     "shell.execute_reply.started": "2023-02-25T03:47:51.184803Z"
    }
   },
   "outputs": [
    {
     "data": {
      "text/plain": [
       "<AxesSubplot:>"
      ]
     },
     "execution_count": 8,
     "metadata": {},
     "output_type": "execute_result"
    },
    {
     "data": {
      "image/png": "[encoded data removed]",
      "text/plain": [
       "<Figure size 432x288 with 1 Axes>"
      ]
     },
     "metadata": {
      "needs_background": "light"
     },
     "output_type": "display_data"
    }
   ],
   "source": [
    "data['Class'].value_counts().sort_index().plot.bar()"
   ]
  },
  {
   "cell_type": "markdown",
   "metadata": {},
   "source": [
    "selecting the highly correlated features\n"
   ]
  },
  {
   "cell_type": "code",
   "execution_count": 9,
   "metadata": {
    "execution": {
     "iopub.execute_input": "2023-02-25T03:47:51.397433Z",
     "iopub.status.busy": "2023-02-25T03:47:51.396771Z",
     "iopub.status.idle": "2023-02-25T03:48:02.571681Z",
     "shell.execute_reply": "2023-02-25T03:48:02.570265Z",
     "shell.execute_reply.started": "2023-02-25T03:47:51.397395Z"
    }
   },
   "outputs": [
    {
     "data": {
      "text/html": [
       "<div>\n",
       "<style scoped>\n",
       "    .dataframe tbody tr th:only-of-type {\n",
       "        vertical-align: middle;\n",
       "    }\n",
       "\n",
       "    .dataframe tbody tr th {\n",
       "        vertical-align: top;\n",
       "    }\n",
       "\n",
       "    .dataframe thead th {\n",
       "        text-align: right;\n",
       "    }\n",
       "</style>\n",
       "<table border=\"1\" class=\"dataframe\">\n",
       "  <thead>\n",
       "    <tr style=\"text-align: right;\">\n",
       "      <th></th>\n",
       "      <th>feature_1</th>\n",
       "      <th>feature_2</th>\n",
       "      <th>feature_3</th>\n",
       "      <th>feature_4</th>\n",
       "      <th>feature_5</th>\n",
       "      <th>feature_6</th>\n",
       "      <th>feature_7</th>\n",
       "      <th>feature_8</th>\n",
       "      <th>feature_9</th>\n",
       "      <th>feature_10</th>\n",
       "      <th>...</th>\n",
       "      <th>feature_1550</th>\n",
       "      <th>feature_1551</th>\n",
       "      <th>feature_1552</th>\n",
       "      <th>feature_1553</th>\n",
       "      <th>feature_1554</th>\n",
       "      <th>feature_1555</th>\n",
       "      <th>feature_1556</th>\n",
       "      <th>feature_1557</th>\n",
       "      <th>feature_1558</th>\n",
       "      <th>Class</th>\n",
       "    </tr>\n",
       "  </thead>\n",
       "  <tbody>\n",
       "    <tr>\n",
       "      <th>feature_1</th>\n",
       "      <td>1.000000</td>\n",
       "      <td>0.360987</td>\n",
       "      <td>-0.238039</td>\n",
       "      <td>-0.146451</td>\n",
       "      <td>-0.020594</td>\n",
       "      <td>-0.051018</td>\n",
       "      <td>-0.065750</td>\n",
       "      <td>-0.005955</td>\n",
       "      <td>-0.041431</td>\n",
       "      <td>0.005648</td>\n",
       "      <td>...</td>\n",
       "      <td>-0.036464</td>\n",
       "      <td>-0.045825</td>\n",
       "      <td>-0.013084</td>\n",
       "      <td>-0.017086</td>\n",
       "      <td>0.046419</td>\n",
       "      <td>-0.024247</td>\n",
       "      <td>-0.021814</td>\n",
       "      <td>-0.039176</td>\n",
       "      <td>-0.014291</td>\n",
       "      <td>0.001706</td>\n",
       "    </tr>\n",
       "    <tr>\n",
       "      <th>feature_2</th>\n",
       "      <td>0.360987</td>\n",
       "      <td>1.000000</td>\n",
       "      <td>0.515579</td>\n",
       "      <td>-0.002420</td>\n",
       "      <td>-0.036730</td>\n",
       "      <td>-0.053325</td>\n",
       "      <td>-0.048186</td>\n",
       "      <td>-0.010463</td>\n",
       "      <td>-0.040984</td>\n",
       "      <td>0.137668</td>\n",
       "      <td>...</td>\n",
       "      <td>-0.052713</td>\n",
       "      <td>-0.060369</td>\n",
       "      <td>0.033083</td>\n",
       "      <td>0.012136</td>\n",
       "      <td>-0.014087</td>\n",
       "      <td>0.200346</td>\n",
       "      <td>0.205776</td>\n",
       "      <td>0.057276</td>\n",
       "      <td>0.028134</td>\n",
       "      <td>0.333874</td>\n",
       "    </tr>\n",
       "    <tr>\n",
       "      <th>feature_3</th>\n",
       "      <td>-0.238039</td>\n",
       "      <td>0.515579</td>\n",
       "      <td>1.000000</td>\n",
       "      <td>0.123585</td>\n",
       "      <td>-0.026523</td>\n",
       "      <td>-0.018619</td>\n",
       "      <td>0.023457</td>\n",
       "      <td>-0.013497</td>\n",
       "      <td>-0.014082</td>\n",
       "      <td>0.087538</td>\n",
       "      <td>...</td>\n",
       "      <td>-0.031263</td>\n",
       "      <td>-0.028461</td>\n",
       "      <td>0.008639</td>\n",
       "      <td>-0.000334</td>\n",
       "      <td>-0.037159</td>\n",
       "      <td>0.089095</td>\n",
       "      <td>0.089823</td>\n",
       "      <td>0.021876</td>\n",
       "      <td>0.013210</td>\n",
       "      <td>0.130893</td>\n",
       "    </tr>\n",
       "    <tr>\n",
       "      <th>feature_4</th>\n",
       "      <td>-0.146451</td>\n",
       "      <td>-0.002420</td>\n",
       "      <td>0.123585</td>\n",
       "      <td>1.000000</td>\n",
       "      <td>0.033516</td>\n",
       "      <td>-0.014787</td>\n",
       "      <td>0.056232</td>\n",
       "      <td>0.025946</td>\n",
       "      <td>0.004212</td>\n",
       "      <td>0.070656</td>\n",
       "      <td>...</td>\n",
       "      <td>0.019257</td>\n",
       "      <td>0.026997</td>\n",
       "      <td>0.033516</td>\n",
       "      <td>-0.021591</td>\n",
       "      <td>0.039680</td>\n",
       "      <td>-0.005294</td>\n",
       "      <td>-0.008351</td>\n",
       "      <td>-0.003702</td>\n",
       "      <td>0.021179</td>\n",
       "      <td>0.022089</td>\n",
       "    </tr>\n",
       "    <tr>\n",
       "      <th>feature_5</th>\n",
       "      <td>-0.020594</td>\n",
       "      <td>-0.036730</td>\n",
       "      <td>-0.026523</td>\n",
       "      <td>0.033516</td>\n",
       "      <td>1.000000</td>\n",
       "      <td>-0.002924</td>\n",
       "      <td>-0.004906</td>\n",
       "      <td>-0.002264</td>\n",
       "      <td>-0.003702</td>\n",
       "      <td>-0.006164</td>\n",
       "      <td>...</td>\n",
       "      <td>-0.003462</td>\n",
       "      <td>-0.003928</td>\n",
       "      <td>-0.002924</td>\n",
       "      <td>-0.003462</td>\n",
       "      <td>-0.003462</td>\n",
       "      <td>-0.006839</td>\n",
       "      <td>-0.006709</td>\n",
       "      <td>-0.005411</td>\n",
       "      <td>-0.001848</td>\n",
       "      <td>-0.016309</td>\n",
       "    </tr>\n",
       "    <tr>\n",
       "      <th>...</th>\n",
       "      <td>...</td>\n",
       "      <td>...</td>\n",
       "      <td>...</td>\n",
       "      <td>...</td>\n",
       "      <td>...</td>\n",
       "      <td>...</td>\n",
       "      <td>...</td>\n",
       "      <td>...</td>\n",
       "      <td>...</td>\n",
       "      <td>...</td>\n",
       "      <td>...</td>\n",
       "      <td>...</td>\n",
       "      <td>...</td>\n",
       "      <td>...</td>\n",
       "      <td>...</td>\n",
       "      <td>...</td>\n",
       "      <td>...</td>\n",
       "      <td>...</td>\n",
       "      <td>...</td>\n",
       "      <td>...</td>\n",
       "      <td>...</td>\n",
       "    </tr>\n",
       "    <tr>\n",
       "      <th>feature_1555</th>\n",
       "      <td>-0.024247</td>\n",
       "      <td>0.200346</td>\n",
       "      <td>0.089095</td>\n",
       "      <td>-0.005294</td>\n",
       "      <td>-0.006839</td>\n",
       "      <td>-0.006839</td>\n",
       "      <td>-0.011474</td>\n",
       "      <td>-0.005294</td>\n",
       "      <td>-0.008658</td>\n",
       "      <td>0.068833</td>\n",
       "      <td>...</td>\n",
       "      <td>-0.008097</td>\n",
       "      <td>-0.009186</td>\n",
       "      <td>0.166918</td>\n",
       "      <td>-0.008097</td>\n",
       "      <td>-0.008097</td>\n",
       "      <td>1.000000</td>\n",
       "      <td>0.981016</td>\n",
       "      <td>0.507456</td>\n",
       "      <td>-0.004321</td>\n",
       "      <td>0.131289</td>\n",
       "    </tr>\n",
       "    <tr>\n",
       "      <th>feature_1556</th>\n",
       "      <td>-0.021814</td>\n",
       "      <td>0.205776</td>\n",
       "      <td>0.089823</td>\n",
       "      <td>-0.008351</td>\n",
       "      <td>-0.006709</td>\n",
       "      <td>-0.006709</td>\n",
       "      <td>-0.011256</td>\n",
       "      <td>-0.005194</td>\n",
       "      <td>-0.008494</td>\n",
       "      <td>0.028262</td>\n",
       "      <td>...</td>\n",
       "      <td>-0.007943</td>\n",
       "      <td>-0.009012</td>\n",
       "      <td>0.170306</td>\n",
       "      <td>-0.007943</td>\n",
       "      <td>-0.007943</td>\n",
       "      <td>0.981016</td>\n",
       "      <td>1.000000</td>\n",
       "      <td>0.517447</td>\n",
       "      <td>-0.004239</td>\n",
       "      <td>0.135190</td>\n",
       "    </tr>\n",
       "    <tr>\n",
       "      <th>feature_1557</th>\n",
       "      <td>-0.039176</td>\n",
       "      <td>0.057276</td>\n",
       "      <td>0.021876</td>\n",
       "      <td>-0.003702</td>\n",
       "      <td>-0.005411</td>\n",
       "      <td>-0.005411</td>\n",
       "      <td>-0.009078</td>\n",
       "      <td>-0.004189</td>\n",
       "      <td>-0.006850</td>\n",
       "      <td>0.040897</td>\n",
       "      <td>...</td>\n",
       "      <td>-0.006406</td>\n",
       "      <td>-0.007268</td>\n",
       "      <td>0.103756</td>\n",
       "      <td>-0.006406</td>\n",
       "      <td>-0.006406</td>\n",
       "      <td>0.507456</td>\n",
       "      <td>0.517447</td>\n",
       "      <td>1.000000</td>\n",
       "      <td>0.169037</td>\n",
       "      <td>0.076272</td>\n",
       "    </tr>\n",
       "    <tr>\n",
       "      <th>feature_1558</th>\n",
       "      <td>-0.014291</td>\n",
       "      <td>0.028134</td>\n",
       "      <td>0.013210</td>\n",
       "      <td>0.021179</td>\n",
       "      <td>-0.001848</td>\n",
       "      <td>-0.001848</td>\n",
       "      <td>-0.003100</td>\n",
       "      <td>-0.001430</td>\n",
       "      <td>-0.002339</td>\n",
       "      <td>0.147925</td>\n",
       "      <td>...</td>\n",
       "      <td>-0.002187</td>\n",
       "      <td>0.233979</td>\n",
       "      <td>-0.001848</td>\n",
       "      <td>-0.002187</td>\n",
       "      <td>-0.002187</td>\n",
       "      <td>-0.004321</td>\n",
       "      <td>-0.004239</td>\n",
       "      <td>0.169037</td>\n",
       "      <td>1.000000</td>\n",
       "      <td>-0.010306</td>\n",
       "    </tr>\n",
       "    <tr>\n",
       "      <th>Class</th>\n",
       "      <td>0.001706</td>\n",
       "      <td>0.333874</td>\n",
       "      <td>0.130893</td>\n",
       "      <td>0.022089</td>\n",
       "      <td>-0.016309</td>\n",
       "      <td>-0.016309</td>\n",
       "      <td>-0.027362</td>\n",
       "      <td>-0.012626</td>\n",
       "      <td>-0.020648</td>\n",
       "      <td>0.134302</td>\n",
       "      <td>...</td>\n",
       "      <td>-0.019308</td>\n",
       "      <td>-0.021907</td>\n",
       "      <td>-0.016309</td>\n",
       "      <td>0.013772</td>\n",
       "      <td>-0.019308</td>\n",
       "      <td>0.131289</td>\n",
       "      <td>0.135190</td>\n",
       "      <td>0.076272</td>\n",
       "      <td>-0.010306</td>\n",
       "      <td>1.000000</td>\n",
       "    </tr>\n",
       "  </tbody>\n",
       "</table>\n",
       "<p>1559 rows × 1559 columns</p>\n",
       "</div>"
      ],
      "text/plain": [
       "              feature_1  feature_2  feature_3  feature_4  feature_5  \\\n",
       "feature_1      1.000000   0.360987  -0.238039  -0.146451  -0.020594   \n",
       "feature_2      0.360987   1.000000   0.515579  -0.002420  -0.036730   \n",
       "feature_3     -0.238039   0.515579   1.000000   0.123585  -0.026523   \n",
       "feature_4     -0.146451  -0.002420   0.123585   1.000000   0.033516   \n",
       "feature_5     -0.020594  -0.036730  -0.026523   0.033516   1.000000   \n",
       "...                 ...        ...        ...        ...        ...   \n",
       "feature_1555  -0.024247   0.200346   0.089095  -0.005294  -0.006839   \n",
       "feature_1556  -0.021814   0.205776   0.089823  -0.008351  -0.006709   \n",
       "feature_1557  -0.039176   0.057276   0.021876  -0.003702  -0.005411   \n",
       "feature_1558  -0.014291   0.028134   0.013210   0.021179  -0.001848   \n",
       "Class          0.001706   0.333874   0.130893   0.022089  -0.016309   \n",
       "\n",
       "              feature_6  feature_7  feature_8  feature_9  feature_10  ...  \\\n",
       "feature_1     -0.051018  -0.065750  -0.005955  -0.041431    0.005648  ...   \n",
       "feature_2     -0.053325  -0.048186  -0.010463  -0.040984    0.137668  ...   \n",
       "feature_3     -0.018619   0.023457  -0.013497  -0.014082    0.087538  ...   \n",
       "feature_4     -0.014787   0.056232   0.025946   0.004212    0.070656  ...   \n",
       "feature_5     -0.002924  -0.004906  -0.002264  -0.003702   -0.006164  ...   \n",
       "...                 ...        ...        ...        ...         ...  ...   \n",
       "feature_1555  -0.006839  -0.011474  -0.005294  -0.008658    0.068833  ...   \n",
       "feature_1556  -0.006709  -0.011256  -0.005194  -0.008494    0.028262  ...   \n",
       "feature_1557  -0.005411  -0.009078  -0.004189  -0.006850    0.040897  ...   \n",
       "feature_1558  -0.001848  -0.003100  -0.001430  -0.002339    0.147925  ...   \n",
       "Class         -0.016309  -0.027362  -0.012626  -0.020648    0.134302  ...   \n",
       "\n",
       "              feature_1550  feature_1551  feature_1552  feature_1553  \\\n",
       "feature_1        -0.036464     -0.045825     -0.013084     -0.017086   \n",
       "feature_2        -0.052713     -0.060369      0.033083      0.012136   \n",
       "feature_3        -0.031263     -0.028461      0.008639     -0.000334   \n",
       "feature_4         0.019257      0.026997      0.033516     -0.021591   \n",
       "feature_5        -0.003462     -0.003928     -0.002924     -0.003462   \n",
       "...                    ...           ...           ...           ...   \n",
       "feature_1555     -0.008097     -0.009186      0.166918     -0.008097   \n",
       "feature_1556     -0.007943     -0.009012      0.170306     -0.007943   \n",
       "feature_1557     -0.006406     -0.007268      0.103756     -0.006406   \n",
       "feature_1558     -0.002187      0.233979     -0.001848     -0.002187   \n",
       "Class            -0.019308     -0.021907     -0.016309      0.013772   \n",
       "\n",
       "              feature_1554  feature_1555  feature_1556  feature_1557  \\\n",
       "feature_1         0.046419     -0.024247     -0.021814     -0.039176   \n",
       "feature_2        -0.014087      0.200346      0.205776      0.057276   \n",
       "feature_3        -0.037159      0.089095      0.089823      0.021876   \n",
       "feature_4         0.039680     -0.005294     -0.008351     -0.003702   \n",
       "feature_5        -0.003462     -0.006839     -0.006709     -0.005411   \n",
       "...                    ...           ...           ...           ...   \n",
       "feature_1555     -0.008097      1.000000      0.981016      0.507456   \n",
       "feature_1556     -0.007943      0.981016      1.000000      0.517447   \n",
       "feature_1557     -0.006406      0.507456      0.517447      1.000000   \n",
       "feature_1558     -0.002187     -0.004321     -0.004239      0.169037   \n",
       "Class            -0.019308      0.131289      0.135190      0.076272   \n",
       "\n",
       "              feature_1558     Class  \n",
       "feature_1        -0.014291  0.001706  \n",
       "feature_2         0.028134  0.333874  \n",
       "feature_3         0.013210  0.130893  \n",
       "feature_4         0.021179  0.022089  \n",
       "feature_5        -0.001848 -0.016309  \n",
       "...                    ...       ...  \n",
       "feature_1555     -0.004321  0.131289  \n",
       "feature_1556     -0.004239  0.135190  \n",
       "feature_1557      0.169037  0.076272  \n",
       "feature_1558      1.000000 -0.010306  \n",
       "Class            -0.010306  1.000000  \n",
       "\n",
       "[1559 rows x 1559 columns]"
      ]
     },
     "execution_count": 9,
     "metadata": {},
     "output_type": "execute_result"
    }
   ],
   "source": [
    "corr=data.corr()\n",
    "corr"
   ]
  },
  {
   "cell_type": "code",
   "execution_count": 10,
   "metadata": {
    "execution": {
     "iopub.execute_input": "2023-02-25T03:48:02.573802Z",
     "iopub.status.busy": "2023-02-25T03:48:02.573295Z",
     "iopub.status.idle": "2023-02-25T03:48:02.584118Z",
     "shell.execute_reply": "2023-02-25T03:48:02.582987Z",
     "shell.execute_reply.started": "2023-02-25T03:48:02.573745Z"
    }
   },
   "outputs": [
    {
     "data": {
      "text/plain": [
       "feature_969     0.350439\n",
       "feature_1048    0.363618\n",
       "feature_1144    0.363471\n",
       "feature_1154    0.367274\n",
       "feature_1155    0.355898\n",
       "feature_1199    0.355898\n",
       "feature_1219    0.355898\n",
       "feature_1244    0.396280\n",
       "feature_1345    0.356310\n",
       "feature_1400    0.423882\n",
       "feature_1423    0.355898\n",
       "feature_1425    0.355898\n",
       "Class           1.000000\n",
       "Name: Class, dtype: float64"
      ]
     },
     "execution_count": 10,
     "metadata": {},
     "output_type": "execute_result"
    }
   ],
   "source": [
    "cor_target = abs(corr[\"Class\"])\n",
    "#Selecting highly correlated features\n",
    "relevant_features = cor_target[cor_target>0.35]\n",
    "relevant_features"
   ]
  },
  {
   "cell_type": "markdown",
   "metadata": {},
   "source": [
    "creating a dataset using the highly correlated features"
   ]
  },
  {
   "cell_type": "code",
   "execution_count": 11,
   "metadata": {
    "execution": {
     "iopub.execute_input": "2023-02-25T03:48:02.586046Z",
     "iopub.status.busy": "2023-02-25T03:48:02.585625Z",
     "iopub.status.idle": "2023-02-25T03:48:02.606282Z",
     "shell.execute_reply": "2023-02-25T03:48:02.604893Z",
     "shell.execute_reply.started": "2023-02-25T03:48:02.586011Z"
    }
   },
   "outputs": [
    {
     "data": {
      "text/html": [
       "<div>\n",
       "<style scoped>\n",
       "    .dataframe tbody tr th:only-of-type {\n",
       "        vertical-align: middle;\n",
       "    }\n",
       "\n",
       "    .dataframe tbody tr th {\n",
       "        vertical-align: top;\n",
       "    }\n",
       "\n",
       "    .dataframe thead th {\n",
       "        text-align: right;\n",
       "    }\n",
       "</style>\n",
       "<table border=\"1\" class=\"dataframe\">\n",
       "  <thead>\n",
       "    <tr style=\"text-align: right;\">\n",
       "      <th></th>\n",
       "      <th>feature_969</th>\n",
       "      <th>feature_1048</th>\n",
       "      <th>feature_1144</th>\n",
       "      <th>feature_1154</th>\n",
       "      <th>feature_1155</th>\n",
       "      <th>feature_1199</th>\n",
       "      <th>feature_1219</th>\n",
       "      <th>feature_1244</th>\n",
       "      <th>feature_1345</th>\n",
       "      <th>feature_1400</th>\n",
       "      <th>feature_1423</th>\n",
       "      <th>feature_1425</th>\n",
       "    </tr>\n",
       "  </thead>\n",
       "  <tbody>\n",
       "    <tr>\n",
       "      <th>0</th>\n",
       "      <td>0</td>\n",
       "      <td>0</td>\n",
       "      <td>0</td>\n",
       "      <td>0</td>\n",
       "      <td>0</td>\n",
       "      <td>0</td>\n",
       "      <td>0</td>\n",
       "      <td>0</td>\n",
       "      <td>0</td>\n",
       "      <td>0</td>\n",
       "      <td>0</td>\n",
       "      <td>0</td>\n",
       "    </tr>\n",
       "    <tr>\n",
       "      <th>1</th>\n",
       "      <td>0</td>\n",
       "      <td>0</td>\n",
       "      <td>0</td>\n",
       "      <td>0</td>\n",
       "      <td>0</td>\n",
       "      <td>0</td>\n",
       "      <td>0</td>\n",
       "      <td>0</td>\n",
       "      <td>0</td>\n",
       "      <td>0</td>\n",
       "      <td>0</td>\n",
       "      <td>0</td>\n",
       "    </tr>\n",
       "    <tr>\n",
       "      <th>2</th>\n",
       "      <td>0</td>\n",
       "      <td>0</td>\n",
       "      <td>0</td>\n",
       "      <td>0</td>\n",
       "      <td>0</td>\n",
       "      <td>0</td>\n",
       "      <td>0</td>\n",
       "      <td>0</td>\n",
       "      <td>0</td>\n",
       "      <td>0</td>\n",
       "      <td>0</td>\n",
       "      <td>0</td>\n",
       "    </tr>\n",
       "    <tr>\n",
       "      <th>3</th>\n",
       "      <td>0</td>\n",
       "      <td>0</td>\n",
       "      <td>0</td>\n",
       "      <td>0</td>\n",
       "      <td>0</td>\n",
       "      <td>0</td>\n",
       "      <td>0</td>\n",
       "      <td>0</td>\n",
       "      <td>0</td>\n",
       "      <td>0</td>\n",
       "      <td>0</td>\n",
       "      <td>0</td>\n",
       "    </tr>\n",
       "    <tr>\n",
       "      <th>4</th>\n",
       "      <td>0</td>\n",
       "      <td>0</td>\n",
       "      <td>0</td>\n",
       "      <td>0</td>\n",
       "      <td>0</td>\n",
       "      <td>0</td>\n",
       "      <td>0</td>\n",
       "      <td>0</td>\n",
       "      <td>0</td>\n",
       "      <td>0</td>\n",
       "      <td>0</td>\n",
       "      <td>0</td>\n",
       "    </tr>\n",
       "  </tbody>\n",
       "</table>\n",
       "</div>"
      ],
      "text/plain": [
       "   feature_969  feature_1048  feature_1144  feature_1154  feature_1155  \\\n",
       "0            0             0             0             0             0   \n",
       "1            0             0             0             0             0   \n",
       "2            0             0             0             0             0   \n",
       "3            0             0             0             0             0   \n",
       "4            0             0             0             0             0   \n",
       "\n",
       "   feature_1199  feature_1219  feature_1244  feature_1345  feature_1400  \\\n",
       "0             0             0             0             0             0   \n",
       "1             0             0             0             0             0   \n",
       "2             0             0             0             0             0   \n",
       "3             0             0             0             0             0   \n",
       "4             0             0             0             0             0   \n",
       "\n",
       "   feature_1423  feature_1425  \n",
       "0             0             0  \n",
       "1             0             0  \n",
       "2             0             0  \n",
       "3             0             0  \n",
       "4             0             0  "
      ]
     },
     "execution_count": 11,
     "metadata": {},
     "output_type": "execute_result"
    }
   ],
   "source": [
    "x=pd.concat([data['feature_969'],data['feature_1048'],data['feature_1144'],data['feature_1154'],data['feature_1155'],data['feature_1199'],data['feature_1219'],data['feature_1244'],data['feature_1345'],data['feature_1400'],data['feature_1423'],data['feature_1425']],axis=1)\n",
    "y=data['Class']\n",
    "x.head()"
   ]
  },
  {
   "cell_type": "markdown",
   "metadata": {},
   "source": [
    "normalization of the features"
   ]
  },
  {
   "cell_type": "code",
   "execution_count": 12,
   "metadata": {
    "execution": {
     "iopub.execute_input": "2023-02-25T03:48:02.608619Z",
     "iopub.status.busy": "2023-02-25T03:48:02.608143Z",
     "iopub.status.idle": "2023-02-25T03:48:02.644058Z",
     "shell.execute_reply": "2023-02-25T03:48:02.642880Z",
     "shell.execute_reply.started": "2023-02-25T03:48:02.608576Z"
    }
   },
   "outputs": [
    {
     "data": {
      "text/html": [
       "<div>\n",
       "<style scoped>\n",
       "    .dataframe tbody tr th:only-of-type {\n",
       "        vertical-align: middle;\n",
       "    }\n",
       "\n",
       "    .dataframe tbody tr th {\n",
       "        vertical-align: top;\n",
       "    }\n",
       "\n",
       "    .dataframe thead th {\n",
       "        text-align: right;\n",
       "    }\n",
       "</style>\n",
       "<table border=\"1\" class=\"dataframe\">\n",
       "  <thead>\n",
       "    <tr style=\"text-align: right;\">\n",
       "      <th></th>\n",
       "      <th>feature_969</th>\n",
       "      <th>feature_1048</th>\n",
       "      <th>feature_1144</th>\n",
       "      <th>feature_1154</th>\n",
       "      <th>feature_1155</th>\n",
       "      <th>feature_1199</th>\n",
       "      <th>feature_1219</th>\n",
       "      <th>feature_1244</th>\n",
       "      <th>feature_1345</th>\n",
       "      <th>feature_1400</th>\n",
       "      <th>feature_1423</th>\n",
       "      <th>feature_1425</th>\n",
       "    </tr>\n",
       "  </thead>\n",
       "  <tbody>\n",
       "    <tr>\n",
       "      <th>0</th>\n",
       "      <td>0.0</td>\n",
       "      <td>0.0</td>\n",
       "      <td>0.0</td>\n",
       "      <td>0.0</td>\n",
       "      <td>0.0</td>\n",
       "      <td>0.0</td>\n",
       "      <td>0.0</td>\n",
       "      <td>0.0</td>\n",
       "      <td>0.0</td>\n",
       "      <td>0.0</td>\n",
       "      <td>0.0</td>\n",
       "      <td>0.0</td>\n",
       "    </tr>\n",
       "    <tr>\n",
       "      <th>1</th>\n",
       "      <td>0.0</td>\n",
       "      <td>0.0</td>\n",
       "      <td>0.0</td>\n",
       "      <td>0.0</td>\n",
       "      <td>0.0</td>\n",
       "      <td>0.0</td>\n",
       "      <td>0.0</td>\n",
       "      <td>0.0</td>\n",
       "      <td>0.0</td>\n",
       "      <td>0.0</td>\n",
       "      <td>0.0</td>\n",
       "      <td>0.0</td>\n",
       "    </tr>\n",
       "    <tr>\n",
       "      <th>2</th>\n",
       "      <td>0.0</td>\n",
       "      <td>0.0</td>\n",
       "      <td>0.0</td>\n",
       "      <td>0.0</td>\n",
       "      <td>0.0</td>\n",
       "      <td>0.0</td>\n",
       "      <td>0.0</td>\n",
       "      <td>0.0</td>\n",
       "      <td>0.0</td>\n",
       "      <td>0.0</td>\n",
       "      <td>0.0</td>\n",
       "      <td>0.0</td>\n",
       "    </tr>\n",
       "    <tr>\n",
       "      <th>3</th>\n",
       "      <td>0.0</td>\n",
       "      <td>0.0</td>\n",
       "      <td>0.0</td>\n",
       "      <td>0.0</td>\n",
       "      <td>0.0</td>\n",
       "      <td>0.0</td>\n",
       "      <td>0.0</td>\n",
       "      <td>0.0</td>\n",
       "      <td>0.0</td>\n",
       "      <td>0.0</td>\n",
       "      <td>0.0</td>\n",
       "      <td>0.0</td>\n",
       "    </tr>\n",
       "    <tr>\n",
       "      <th>4</th>\n",
       "      <td>0.0</td>\n",
       "      <td>0.0</td>\n",
       "      <td>0.0</td>\n",
       "      <td>0.0</td>\n",
       "      <td>0.0</td>\n",
       "      <td>0.0</td>\n",
       "      <td>0.0</td>\n",
       "      <td>0.0</td>\n",
       "      <td>0.0</td>\n",
       "      <td>0.0</td>\n",
       "      <td>0.0</td>\n",
       "      <td>0.0</td>\n",
       "    </tr>\n",
       "  </tbody>\n",
       "</table>\n",
       "</div>"
      ],
      "text/plain": [
       "   feature_969  feature_1048  feature_1144  feature_1154  feature_1155  \\\n",
       "0          0.0           0.0           0.0           0.0           0.0   \n",
       "1          0.0           0.0           0.0           0.0           0.0   \n",
       "2          0.0           0.0           0.0           0.0           0.0   \n",
       "3          0.0           0.0           0.0           0.0           0.0   \n",
       "4          0.0           0.0           0.0           0.0           0.0   \n",
       "\n",
       "   feature_1199  feature_1219  feature_1244  feature_1345  feature_1400  \\\n",
       "0           0.0           0.0           0.0           0.0           0.0   \n",
       "1           0.0           0.0           0.0           0.0           0.0   \n",
       "2           0.0           0.0           0.0           0.0           0.0   \n",
       "3           0.0           0.0           0.0           0.0           0.0   \n",
       "4           0.0           0.0           0.0           0.0           0.0   \n",
       "\n",
       "   feature_1423  feature_1425  \n",
       "0           0.0           0.0  \n",
       "1           0.0           0.0  \n",
       "2           0.0           0.0  \n",
       "3           0.0           0.0  \n",
       "4           0.0           0.0  "
      ]
     },
     "execution_count": 12,
     "metadata": {},
     "output_type": "execute_result"
    }
   ],
   "source": [
    "for column in x.columns:\n",
    "    x[column] = (x[column] - x[column].min()) / (x[column].max() - x[column].min()) \n",
    "x.head()"
   ]
  },
  {
   "cell_type": "markdown",
   "metadata": {},
   "source": [
    "train test splitting"
   ]
  },
  {
   "cell_type": "code",
   "execution_count": 13,
   "metadata": {
    "execution": {
     "iopub.execute_input": "2023-02-25T03:48:02.646023Z",
     "iopub.status.busy": "2023-02-25T03:48:02.645705Z",
     "iopub.status.idle": "2023-02-25T03:48:02.657558Z",
     "shell.execute_reply": "2023-02-25T03:48:02.656151Z",
     "shell.execute_reply.started": "2023-02-25T03:48:02.645993Z"
    }
   },
   "outputs": [
    {
     "name": "stdout",
     "output_type": "stream",
     "text": [
      "training data shape is :(1372, 12).\n",
      "training label shape is :(1372,).\n",
      "testing data shape is :(343, 12).\n",
      "testing label shape is :(343,).\n"
     ]
    }
   ],
   "source": [
    "from sklearn.model_selection import train_test_split\n",
    "\n",
    "X_train,X_test ,y_train, y_test = train_test_split(x,y,\n",
    "                                                   test_size=0.2,\n",
    "                                                   random_state=0,\n",
    "                                                  shuffle = True,\n",
    "                                                  stratify = y)\n",
    "\n",
    "print('training data shape is :{}.'.format(X_train.shape))\n",
    "print('training label shape is :{}.'.format(y_train.shape))\n",
    "print('testing data shape is :{}.'.format(X_test.shape))\n",
    "print('testing label shape is :{}.'.format(y_test.shape))"
   ]
  },
  {
   "cell_type": "markdown",
   "metadata": {},
   "source": [
    "1. SVM with rbf kernel"
   ]
  },
  {
   "cell_type": "code",
   "execution_count": 15,
   "metadata": {
    "execution": {
     "iopub.execute_input": "2023-02-25T03:48:02.659647Z",
     "iopub.status.busy": "2023-02-25T03:48:02.659074Z",
     "iopub.status.idle": "2023-02-25T03:48:02.689236Z",
     "shell.execute_reply": "2023-02-25T03:48:02.688237Z",
     "shell.execute_reply.started": "2023-02-25T03:48:02.659601Z"
    }
   },
   "outputs": [
    {
     "data": {
      "text/plain": [
       "SVC(gamma=8)"
      ]
     },
     "execution_count": 15,
     "metadata": {},
     "output_type": "execute_result"
    }
   ],
   "source": [
    "from sklearn.svm import SVC\n",
    "# Building a Support Vector Machine on train data\n",
    "svc_model = SVC(kernel='rbf',gamma=8)\n",
    "svc_model.fit(X_train, y_train)"
   ]
  },
  {
   "cell_type": "code",
   "execution_count": 16,
   "metadata": {
    "execution": {
     "iopub.execute_input": "2023-02-25T03:48:02.691404Z",
     "iopub.status.busy": "2023-02-25T03:48:02.690421Z",
     "iopub.status.idle": "2023-02-25T03:48:02.747841Z",
     "shell.execute_reply": "2023-02-25T03:48:02.746604Z",
     "shell.execute_reply.started": "2023-02-25T03:48:02.691369Z"
    }
   },
   "outputs": [
    {
     "name": "stdout",
     "output_type": "stream",
     "text": [
      "confusion matrix\n",
      "[[313   1]\n",
      " [ 19  10]]\n",
      "0.923469387755102\n",
      "0.9416909620991254\n",
      "Test set:343\n",
      "Accuracy=94.16909620991254%\n",
      "              precision    recall  f1-score   support\n",
      "\n",
      "           0       0.94      1.00      0.97       314\n",
      "           1       0.91      0.34      0.50        29\n",
      "\n",
      "    accuracy                           0.94       343\n",
      "   macro avg       0.93      0.67      0.73       343\n",
      "weighted avg       0.94      0.94      0.93       343\n",
      "\n"
     ]
    }
   ],
   "source": [
    "from sklearn.metrics import accuracy_score, confusion_matrix, classification_report\n",
    "predictions= svc_model .predict(X_test)\n",
    "percentage=svc_model.score(X_test,y_test)\n",
    "res=confusion_matrix(y_test,predictions)\n",
    "print(\"confusion matrix\")\n",
    "print(res)\n",
    "# check the accuracy on the training set\n",
    "print(svc_model.score(X_train, y_train))\n",
    "print(svc_model.score(X_test, y_test))\n",
    "print(f\"Test set:{len(X_test)}\")\n",
    "print(f\"Accuracy={percentage*100}%\")\n",
    "print(classification_report(y_test, predictions))"
   ]
  },
  {
   "cell_type": "markdown",
   "metadata": {},
   "source": [
    "2. xgboost"
   ]
  },
  {
   "cell_type": "code",
   "execution_count": 17,
   "metadata": {
    "execution": {
     "iopub.execute_input": "2023-02-25T03:48:02.752367Z",
     "iopub.status.busy": "2023-02-25T03:48:02.751741Z",
     "iopub.status.idle": "2023-02-25T03:48:03.048263Z",
     "shell.execute_reply": "2023-02-25T03:48:03.047271Z",
     "shell.execute_reply.started": "2023-02-25T03:48:02.752333Z"
    }
   },
   "outputs": [
    {
     "data": {
      "text/plain": [
       "XGBClassifier(base_score=None, booster=None, callbacks=None,\n",
       "              colsample_bylevel=None, colsample_bynode=None,\n",
       "              colsample_bytree=None, early_stopping_rounds=None,\n",
       "              enable_categorical=False, eval_metric=None, feature_types=None,\n",
       "              gamma=None, gpu_id=None, grow_policy=None, importance_type=None,\n",
       "              interaction_constraints=None, learning_rate=None, max_bin=None,\n",
       "              max_cat_threshold=None, max_cat_to_onehot=None,\n",
       "              max_delta_step=None, max_depth=None, max_leaves=None,\n",
       "              min_child_weight=None, missing=nan, monotone_constraints=None,\n",
       "              n_estimators=100, n_jobs=None, num_parallel_tree=None,\n",
       "              predictor=None, random_state=None, ...)"
      ]
     },
     "execution_count": 17,
     "metadata": {},
     "output_type": "execute_result"
    }
   ],
   "source": [
    "from xgboost import XGBClassifier\n",
    "xgb_model = XGBClassifier()\n",
    "xgb_model.fit(X_train, y_train)"
   ]
  },
  {
   "cell_type": "code",
   "execution_count": 18,
   "metadata": {
    "execution": {
     "iopub.execute_input": "2023-02-25T03:48:03.054005Z",
     "iopub.status.busy": "2023-02-25T03:48:03.052471Z",
     "iopub.status.idle": "2023-02-25T03:48:03.095223Z",
     "shell.execute_reply": "2023-02-25T03:48:03.094247Z",
     "shell.execute_reply.started": "2023-02-25T03:48:03.053956Z"
    }
   },
   "outputs": [
    {
     "name": "stdout",
     "output_type": "stream",
     "text": [
      "confusion matrix\n",
      "[[312   2]\n",
      " [ 18  11]]\n",
      "0.923469387755102\n",
      "0.9416909620991254\n",
      "Test set:343\n",
      "Accuracy=94.16909620991254%\n",
      "              precision    recall  f1-score   support\n",
      "\n",
      "           0       0.95      0.99      0.97       314\n",
      "           1       0.85      0.38      0.52        29\n",
      "\n",
      "    accuracy                           0.94       343\n",
      "   macro avg       0.90      0.69      0.75       343\n",
      "weighted avg       0.94      0.94      0.93       343\n",
      "\n"
     ]
    }
   ],
   "source": [
    "predictions= xgb_model .predict(X_test)\n",
    "percentage=xgb_model.score(X_test,y_test)\n",
    "res=confusion_matrix(y_test,predictions)\n",
    "print(\"confusion matrix\")\n",
    "print(res)\n",
    "# check the accuracy on the training set\n",
    "print(xgb_model.score(X_train, y_train))\n",
    "print(xgb_model.score(X_test, y_test))\n",
    "print(f\"Test set:{len(X_test)}\")\n",
    "print(f\"Accuracy={percentage*100}%\")\n",
    "print(classification_report(y_test, predictions))"
   ]
  },
  {
   "cell_type": "markdown",
   "metadata": {},
   "source": [
    "3.random forest"
   ]
  },
  {
   "cell_type": "code",
   "execution_count": 19,
   "metadata": {
    "execution": {
     "iopub.execute_input": "2023-02-25T03:48:03.100440Z",
     "iopub.status.busy": "2023-02-25T03:48:03.099568Z",
     "iopub.status.idle": "2023-02-25T03:48:03.278125Z",
     "shell.execute_reply": "2023-02-25T03:48:03.277077Z",
     "shell.execute_reply.started": "2023-02-25T03:48:03.100398Z"
    }
   },
   "outputs": [
    {
     "data": {
      "text/plain": [
       "RandomForestClassifier()"
      ]
     },
     "execution_count": 19,
     "metadata": {},
     "output_type": "execute_result"
    }
   ],
   "source": [
    "from sklearn.ensemble import RandomForestClassifier\n",
    "forest_model=RandomForestClassifier()\n",
    "forest_model.fit(X_train,y_train)"
   ]
  },
  {
   "cell_type": "code",
   "execution_count": 20,
   "metadata": {
    "execution": {
     "iopub.execute_input": "2023-02-25T03:48:03.279989Z",
     "iopub.status.busy": "2023-02-25T03:48:03.279633Z",
     "iopub.status.idle": "2023-02-25T03:48:03.368593Z",
     "shell.execute_reply": "2023-02-25T03:48:03.367418Z",
     "shell.execute_reply.started": "2023-02-25T03:48:03.279956Z"
    }
   },
   "outputs": [
    {
     "name": "stdout",
     "output_type": "stream",
     "text": [
      "confusion matrix\n",
      "[[313   1]\n",
      " [ 19  10]]\n",
      "0.923469387755102\n",
      "0.9416909620991254\n",
      "Test set:343\n",
      "Accuracy=94.16909620991254%\n",
      "              precision    recall  f1-score   support\n",
      "\n",
      "           0       0.94      1.00      0.97       314\n",
      "           1       0.91      0.34      0.50        29\n",
      "\n",
      "    accuracy                           0.94       343\n",
      "   macro avg       0.93      0.67      0.73       343\n",
      "weighted avg       0.94      0.94      0.93       343\n",
      "\n"
     ]
    }
   ],
   "source": [
    "predictions= forest_model .predict(X_test)\n",
    "percentage=forest_model.score(X_test,y_test)\n",
    "res=confusion_matrix(y_test,predictions)\n",
    "print(\"confusion matrix\")\n",
    "print(res)\n",
    "# check the accuracy on the training set\n",
    "print(forest_model.score(X_train, y_train))\n",
    "print(forest_model.score(X_test, y_test))\n",
    "print(f\"Test set:{len(X_test)}\")\n",
    "print(f\"Accuracy={percentage*100}%\")\n",
    "print(classification_report(y_test, predictions))"
   ]
  },
  {
   "cell_type": "code",
   "execution_count": null,
   "metadata": {
    "execution": {
     "iopub.execute_input": "2023-02-25T03:55:45.780766Z",
     "iopub.status.busy": "2023-02-25T03:55:45.780155Z",
     "iopub.status.idle": "2023-02-25T03:55:58.811405Z",
     "shell.execute_reply": "2023-02-25T03:55:58.810136Z",
     "shell.execute_reply.started": "2023-02-25T03:55:45.780713Z"
    }
   },
   "outputs": [],
   "source": [
    "feature_969=float(input('enter the value for feature 969'))\n",
    "feature_1048=float(input('enter the value for feature 1048'))\n",
    "feature_1144=float(input('enter the value for feature 1144'))\n",
    "feature_1154=float(input('enter the value for feature 1154'))\n",
    "feature_1155=float(input('enter the value for feature 1155'))\n",
    "feature_1199=float(input('enter the value for feature 1199'))\n",
    "feature_1219=float(input('enter the value for feature 1219'))\n",
    "feature_1244=float(input('enter the value for feature 1244'))\n",
    "feature_1345=float(input('enter the value for feature 1345'))\n",
    "feature_1400=float(input('enter the value for feature 1400'))\n",
    "feature_1423 =float(input('enter the value for feature 1423'))\n",
    "feature_1425=float(input('enter the value for feature 1425'))\n",
    "inp=[[feature_969,feature_1048,feature_1144,feature_1154,feature_1155,feature_1199,feature_1219,feature_1244,feature_1345,feature_1400,feature_1423,feature_1425]]\n",
    "out=svc_model.predict(inp)\n",
    "if out<0.5:\n",
    "    print('THE GIVEN WAFER IS IDENTIFIED AS :- faulty')\n",
    "else:\n",
    "    print('THE GIVEN WAFER IS IDENTIFIED AS :- normal')"
   ]
  },
  {
   "cell_type": "code",
   "execution_count": null,
   "metadata": {},
   "outputs": [],
   "source": []
  }
 ],
 "metadata": {
  "kernelspec": {
   "display_name": "Python 3 (ipykernel)",
   "language": "python",
   "name": "python3"
  },
  "language_info": {
   "codemirror_mode": {
    "name": "ipython",
    "version": 3
   },
   "file_extension": ".py",
   "mimetype": "text/x-python",
   "name": "python",
   "nbconvert_exporter": "python",
   "pygments_lexer": "ipython3",
   "version": "3.9.12"
  }
 },
 "nbformat": 4,
 "nbformat_minor": 4
}
